{
 "cells": [
  {
   "cell_type": "code",
   "execution_count": 1,
   "id": "b94fb940-cf7a-4e31-93ec-0378fc77a346",
   "metadata": {},
   "outputs": [
    {
     "data": {
      "text/plain": [
       "3600"
      ]
     },
     "execution_count": 1,
     "metadata": {},
     "output_type": "execute_result"
    }
   ],
   "source": [
    "60*60 #3.1"
   ]
  },
  {
   "cell_type": "code",
   "execution_count": 33,
   "id": "464cbcd6-2dea-4abc-ba5f-e24e488b5a92",
   "metadata": {},
   "outputs": [
    {
     "name": "stdout",
     "output_type": "stream",
     "text": [
      "86400\n"
     ]
    }
   ],
   "source": [
    "seconds_per_hour = 3600 #3.2\n",
    "\n",
    "seconds_per_day = seconds_per_hour * 24 #3.3, 3.4\n",
    "print(seconds_per_day) #3.3 answer is 86400\n"
   ]
  },
  {
   "cell_type": "code",
   "execution_count": 37,
   "id": "c9bb30c5-8bcb-41b5-b54c-468b888eefb0",
   "metadata": {},
   "outputs": [
    {
     "data": {
      "text/plain": [
       "24.0"
      ]
     },
     "execution_count": 37,
     "metadata": {},
     "output_type": "execute_result"
    }
   ],
   "source": [
    "seconds_per_day / seconds_per_hour #3.5"
   ]
  },
  {
   "cell_type": "code",
   "execution_count": 39,
   "id": "1f1fb39b-9b5b-4f02-b99e-5b45c6b3dd36",
   "metadata": {},
   "outputs": [
    {
     "data": {
      "text/plain": [
       "24"
      ]
     },
     "execution_count": 39,
     "metadata": {},
     "output_type": "execute_result"
    }
   ],
   "source": [
    "seconds_per_day // seconds_per_hour #3.6 asnwer is 24), yes it agrees with 3.5\n",
    "\n"
   ]
  },
  {
   "cell_type": "code",
   "execution_count": null,
   "id": "89d1ead9-3c4f-487b-be7c-eb315f63aff0",
   "metadata": {},
   "outputs": [],
   "source": []
  }
 ],
 "metadata": {
  "kernelspec": {
   "display_name": "anaconda-2022.05-py39",
   "language": "python",
   "name": "conda-env-anaconda-2022.05-py39-py"
  },
  "language_info": {
   "codemirror_mode": {
    "name": "ipython",
    "version": 3
   },
   "file_extension": ".py",
   "mimetype": "text/x-python",
   "name": "python",
   "nbconvert_exporter": "python",
   "pygments_lexer": "ipython3",
   "version": "3.9.12"
  }
 },
 "nbformat": 4,
 "nbformat_minor": 5
}
